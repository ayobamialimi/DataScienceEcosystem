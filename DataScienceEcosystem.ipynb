{
 "cells": [
  {
   "cell_type": "markdown",
   "id": "9393f919",
   "metadata": {},
   "source": [
    "# Data Science Tools and Ecosystem"
   ]
  },
  {
   "cell_type": "markdown",
   "id": "9f8efba5",
   "metadata": {},
   "source": [
    "In this notebook, Data Science Tools and Ecosystem are summarized."
   ]
  },
  {
   "attachments": {},
   "cell_type": "markdown",
   "id": "99426629",
   "metadata": {},
   "source": [
    "Some of the popular languages that Data Scientists use are:\n",
    "1. R\n",
    "2. Python\n",
    "3. C++"
   ]
  },
  {
   "cell_type": "markdown",
   "id": "092c31c3",
   "metadata": {},
   "source": [
    "Some of the commonly used libraries used by Data Scientists include:\n",
    "1. Panda\n",
    "2. NumPy\n",
    "3. Scikit\n"
   ]
  },
  {
   "cell_type": "markdown",
   "id": "7844f27b",
   "metadata": {},
   "source": [
    "|Data Science Tool|\n",
    "|:-|\n",
    "|Jupyter lab & Jupyter notebook|\n",
    "|Visual Studio|\n",
    "|Spyder|"
   ]
  },
  {
   "cell_type": "markdown",
   "id": "b6095de5",
   "metadata": {},
   "source": [
    "### Below are a few examples of evaluating arithmetic expressions in Python"
   ]
  },
  {
   "cell_type": "code",
   "execution_count": 2,
   "id": "038e53eb",
   "metadata": {},
   "outputs": [
    {
     "data": {
      "text/plain": [
       "17"
      ]
     },
     "execution_count": 2,
     "metadata": {},
     "output_type": "execute_result"
    }
   ],
   "source": [
    "#This is a simple arithmetic expression to multiply then add integers\n",
    "(3*4)+5"
   ]
  },
  {
   "cell_type": "code",
   "execution_count": 3,
   "id": "9c521515",
   "metadata": {},
   "outputs": [
    {
     "data": {
      "text/plain": [
       "3.3333333333333335"
      ]
     },
     "execution_count": 3,
     "metadata": {},
     "output_type": "execute_result"
    }
   ],
   "source": [
    "#This will convert 200 minutes to hours by dividing by 60\n",
    "200/60"
   ]
  },
  {
   "cell_type": "markdown",
   "id": "e77ce03a",
   "metadata": {},
   "source": [
    "**Objectives:**\n",
    "<ul>\n",
    "    <li>Popular languages for data science</li>\n",
    "    <li>Commonly used libraries in data science</li>\n",
    "    <li>Data science tools</li>\n",
    "    <li>Performing simple arithmetic in Python</li>\n",
    "<ul>"
   ]
  },
  {
   "cell_type": "markdown",
   "id": "c8d11531",
   "metadata": {},
   "source": [
    "## Author\n",
    "Ayobami Alimi"
   ]
  },
  {
   "cell_type": "code",
   "execution_count": null,
   "id": "fa11c753",
   "metadata": {},
   "outputs": [],
   "source": []
  }
 ],
 "metadata": {
  "kernelspec": {
   "display_name": "Python 3 (ipykernel)",
   "language": "python",
   "name": "python3"
  },
  "language_info": {
   "codemirror_mode": {
    "name": "ipython",
    "version": 3
   },
   "file_extension": ".py",
   "mimetype": "text/x-python",
   "name": "python",
   "nbconvert_exporter": "python",
   "pygments_lexer": "ipython3",
   "version": "3.11.4"
  }
 },
 "nbformat": 4,
 "nbformat_minor": 5
}
