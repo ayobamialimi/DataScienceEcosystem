{
  "cells": [
    {
      "cell_type": "markdown",
      "metadata": {
        "id": "view-in-github",
        "colab_type": "text"
      },
      "source": [
        "<a href=\"https://colab.research.google.com/github/ayobamialimi/DataScienceEcosystem/blob/main/HWK5_Building_a_GPT.ipynb\" target=\"_parent\"><img src=\"https://colab.research.google.com/assets/colab-badge.svg\" alt=\"Open In Colab\"/></a>"
      ]
    },
    {
      "cell_type": "markdown",
      "metadata": {
        "id": "3HqK14JLSStR"
      },
      "source": []
    },
    {
      "cell_type": "markdown",
      "metadata": {
        "id": "W-lgRybxmPiz"
      },
      "source": [
        "# 1. Select a dataset\n",
        "Andrej Karpathy used a subset of Shakespeare's works in his nanoGPT. **Pick a different author to train this GPT.** For example, [Project Gutenberg](https://www.gutenberg.org) is a library of over 70,000 free eBooks. To download [The Complete Works of William Shakespeare by William Shakespeare](https://www.gutenberg.org/ebooks/100) in text format, you can download the [Plain Text UTF-8](https://www.gutenberg.org/cache/epub/100/pg100.txt) file."
      ]
    },
    {
      "cell_type": "code",
      "execution_count": null,
      "metadata": {
        "colab": {
          "base_uri": "https://localhost:8080/"
        },
        "id": "h5hjCcLDr2WC",
        "outputId": "6fc80fdc-17b1-49bc-f133-5936ed35ed9c"
      },
      "outputs": [
        {
          "name": "stdout",
          "output_type": "stream",
          "text": [
            "--2024-03-20 16:15:11--  https://www.gutenberg.org/cache/epub/13615/pg13615.txt\n",
            "Resolving www.gutenberg.org (www.gutenberg.org)... 152.19.134.47, 2610:28:3090:3000:0:bad:cafe:47\n",
            "Connecting to www.gutenberg.org (www.gutenberg.org)|152.19.134.47|:443... connected.\n",
            "HTTP request sent, awaiting response... 200 OK\n",
            "Length: 1816318 (1.7M) [text/plain]\n",
            "Saving to: ‘pg13615.txt’\n",
            "\n",
            "pg13615.txt         100%[===================>]   1.73M  4.74MB/s    in 0.4s    \n",
            "\n",
            "2024-03-20 16:15:12 (4.74 MB/s) - ‘pg13615.txt’ saved [1816318/1816318]\n",
            "\n"
          ]
        }
      ],
      "source": [
        "# We always start with a dataset to train on. Let's download the tiny shakespeare dataset\n",
        "!wget https://www.gutenberg.org/cache/epub/13615/pg13615.txt\n",
        "# Replace \"https://raw.githubusercontent.com/karpathy/char-rnn/master/data/tinyshakespeare/input.txt\" with the URL for your author\n",
        "# Save the downloaded file as \"input.txt\""
      ]
    },
    {
      "cell_type": "code",
      "execution_count": null,
      "metadata": {
        "id": "O6medjfRsLD9"
      },
      "outputs": [],
      "source": [
        "# read it in to inspect it\n",
        "with open('/content/pg13615.txt', 'r', encoding='utf-8') as f:\n",
        "    text = f.read()"
      ]
    },
    {
      "cell_type": "markdown",
      "metadata": {
        "id": "6LlA1eUOmPi1"
      },
      "source": [
        "## Get the length of this dataset (in characters)"
      ]
    },
    {
      "cell_type": "code",
      "execution_count": null,
      "metadata": {
        "colab": {
          "base_uri": "https://localhost:8080/"
        },
        "id": "6xWI_VyAsN8F",
        "outputId": "315ec016-d47b-4814-e0b4-dd8c91be2255"
      },
      "outputs": [
        {
          "name": "stdout",
          "output_type": "stream",
          "text": [
            "length of dataset in characters:  1785346\n"
          ]
        }
      ],
      "source": [
        "print(\"length of dataset in characters: \", len(text))"
      ]
    },
    {
      "cell_type": "code",
      "execution_count": null,
      "metadata": {
        "colab": {
          "base_uri": "https://localhost:8080/"
        },
        "id": "2c5V0FvqseE0",
        "outputId": "d163c9c8-8d69-4afb-d021-89151be8a2d5"
      },
      "outputs": [
        {
          "name": "stdout",
          "output_type": "stream",
          "text": [
            "﻿The Project Gutenberg eBook of Studies in the Psychology of Sex, Volume 6\n",
            "    \n",
            "This ebook is for the use of anyone anywhere in the United States and\n",
            "most other parts of the world at no cost and with almost no restrictions\n",
            "whatsoever. You may copy it, give it away or re-use it under the terms\n",
            "of the Project Gutenberg License included with this ebook or online\n",
            "at www.gutenberg.org. If you are not located in the United States,\n",
            "you will have to check the laws of the country where you are located\n",
            "before using this eBook.\n",
            "\n",
            "Title: Studies in the Psychology of Sex, Volume 6\n",
            "\n",
            "Author: Havelock Ellis\n",
            "\n",
            "Release date: October 8, 2004 [eBook #13615]\n",
            "                Most recently updated: December 18, 2020\n",
            "\n",
            "Language: English\n",
            "\n",
            "\n",
            "\n",
            "*** START OF THE PROJECT GUTENBERG EBOOK STUDIES IN THE PSYCHOLOGY OF SEX, VOLUME 6 ***\n",
            "\n",
            "\n",
            "E-text prepared by Juliet Sutherland and the Project Gutenberg Online\n",
            "Distributed Proofreading Team (https://www.pgdp.net)\n",
            "\n",
            "\n",
            "\n",
            "STUDIES IN THE PSYCHOLOGY OF SEX, VOLUME VI\n",
            "\n",
            "   Sex in Relati\n"
          ]
        }
      ],
      "source": [
        "# let's look at the first 1000 characters\n",
        "print(text[:1000])"
      ]
    },
    {
      "cell_type": "markdown",
      "metadata": {
        "id": "qZSZsrO6mPi3"
      },
      "source": [
        "## Get the vocabulary for this dataset, and its length"
      ]
    },
    {
      "cell_type": "code",
      "execution_count": null,
      "metadata": {
        "colab": {
          "base_uri": "https://localhost:8080/"
        },
        "id": "0e-Rbyr8sfM8",
        "outputId": "8c707542-31d3-40f8-96d5-32bdd6a23918"
      },
      "outputs": [
        {
          "name": "stdout",
          "output_type": "stream",
          "text": [
            "\n",
            " !\"#$%'()*,-./0123456789:;?ABCDEFGHIJKLMNOPQRSTUVWXYZ[]_abcdefghijklmnopqrstuvwxyz£½¾Æàáâäæçèéêëïñóôöü—‘’“”•™﻿\n",
            "111\n"
          ]
        }
      ],
      "source": [
        "# here are all the unique characters that occur in this text\n",
        "chars = sorted(list(set(text)))\n",
        "vocab_size = len(chars)\n",
        "print(''.join(chars))\n",
        "print(vocab_size)"
      ]
    },
    {
      "cell_type": "markdown",
      "metadata": {
        "id": "LxmkrB5nmPi4"
      },
      "source": [
        "## Create the encoder (string -> list of integers) and decoder (list of integers -> string)"
      ]
    },
    {
      "cell_type": "code",
      "execution_count": null,
      "metadata": {
        "colab": {
          "base_uri": "https://localhost:8080/"
        },
        "id": "Yw1LKNCgwjj1",
        "outputId": "a882bca6-e432-4ce9-aca7-b78302398a1a"
      },
      "outputs": [
        {
          "name": "stdout",
          "output_type": "stream",
          "text": [
            "[64, 65, 65, 1, 76, 64, 61, 74, 61]\n",
            "hii there\n"
          ]
        }
      ],
      "source": [
        "# create a mapping from characters to integers\n",
        "stoi = { ch:i for i,ch in enumerate(chars) }\n",
        "itos = { i:ch for i,ch in enumerate(chars) }\n",
        "encode = lambda s: [stoi[c] for c in s] # encoder: take a string, output a list of integers\n",
        "decode = lambda l: ''.join([itos[i] for i in l]) # decoder: take a list of integers, output a string\n",
        "\n",
        "print(encode(\"hii there\"))\n",
        "print(decode(encode(\"hii there\")))"
      ]
    },
    {
      "cell_type": "markdown",
      "metadata": {
        "id": "gQXK1KIlmPi5"
      },
      "source": [
        "## Load encoded data into a tensor"
      ]
    },
    {
      "cell_type": "code",
      "execution_count": null,
      "metadata": {
        "colab": {
          "base_uri": "https://localhost:8080/"
        },
        "id": "YJb0OXPwzvqg",
        "outputId": "67b9cc96-68cd-4335-cf1e-ebe9904f018f"
      },
      "outputs": [
        {
          "name": "stdout",
          "output_type": "stream",
          "text": [
            "torch.Size([1785346]) torch.int64\n",
            "tensor([110,  47,  64,  61,   1,  43,  74,  71,  66,  61,  59,  76,   1,  34,\n",
            "         77,  76,  61,  70,  58,  61,  74,  63,   1,  61,  29,  71,  71,  67,\n",
            "          1,  71,  62,   1,  46,  76,  77,  60,  65,  61,  75,   1,  65,  70,\n",
            "          1,  76,  64,  61,   1,  43,  75,  81,  59,  64,  71,  68,  71,  63,\n",
            "         81,   1,  71,  62,   1,  46,  61,  80,  11,   1,  49,  71,  68,  77,\n",
            "         69,  61,   1,  21,   0,   1,   1,   1,   1,   0,  47,  64,  65,  75,\n",
            "          1,  61,  58,  71,  71,  67,   1,  65,  75,   1,  62,  71,  74,   1,\n",
            "         76,  64,  61,   1,  77,  75,  61,   1,  71,  62,   1,  57,  70,  81,\n",
            "         71,  70,  61,   1,  57,  70,  81,  79,  64,  61,  74,  61,   1,  65,\n",
            "         70,   1,  76,  64,  61,   1,  48,  70,  65,  76,  61,  60,   1,  46,\n",
            "         76,  57,  76,  61,  75,   1,  57,  70,  60,   0,  69,  71,  75,  76,\n",
            "          1,  71,  76,  64,  61,  74,   1,  72,  57,  74,  76,  75,   1,  71,\n",
            "         62,   1,  76,  64,  61,   1,  79,  71,  74,  68,  60,   1,  57,  76,\n",
            "          1,  70,  71,   1,  59,  71,  75,  76,   1,  57,  70,  60,   1,  79,\n",
            "         65,  76,  64,   1,  57,  68,  69,  71,  75,  76,   1,  70,  71,   1,\n",
            "         74,  61,  75,  76,  74,  65,  59,  76,  65,  71,  70,  75,   0,  79,\n",
            "         64,  57,  76,  75,  71,  61,  78,  61,  74,  13,   1,  52,  71,  77,\n",
            "          1,  69,  57,  81,   1,  59,  71,  72,  81,   1,  65,  76,  11,   1,\n",
            "         63,  65,  78,  61,   1,  65,  76,   1,  57,  79,  57,  81,   1,  71,\n",
            "         74,   1,  74,  61,  12,  77,  75,  61,   1,  65,  76,   1,  77,  70,\n",
            "         60,  61,  74,   1,  76,  64,  61,   1,  76,  61,  74,  69,  75,   0,\n",
            "         71,  62,   1,  76,  64,  61,   1,  43,  74,  71,  66,  61,  59,  76,\n",
            "          1,  34,  77,  76,  61,  70,  58,  61,  74,  63,   1,  39,  65,  59,\n",
            "         61,  70,  75,  61,   1,  65,  70,  59,  68,  77,  60,  61,  60,   1,\n",
            "         79,  65,  76,  64,   1,  76,  64,  65,  75,   1,  61,  58,  71,  71,\n",
            "         67,   1,  71,  74,   1,  71,  70,  68,  65,  70,  61,   0,  57,  76,\n",
            "          1,  79,  79,  79,  13,  63,  77,  76,  61,  70,  58,  61,  74,  63,\n",
            "         13,  71,  74,  63,  13,   1,  36,  62,   1,  81,  71,  77,   1,  57,\n",
            "         74,  61,   1,  70,  71,  76,   1,  68,  71,  59,  57,  76,  61,  60,\n",
            "          1,  65,  70,   1,  76,  64,  61,   1,  48,  70,  65,  76,  61,  60,\n",
            "          1,  46,  76,  57,  76,  61,  75,  11,   0,  81,  71,  77,   1,  79,\n",
            "         65,  68,  68,   1,  64,  57,  78,  61,   1,  76,  71,   1,  59,  64,\n",
            "         61,  59,  67,   1,  76,  64,  61,   1,  68,  57,  79,  75,   1,  71,\n",
            "         62,   1,  76,  64,  61,   1,  59,  71,  77,  70,  76,  74,  81,   1,\n",
            "         79,  64,  61,  74,  61,   1,  81,  71,  77,   1,  57,  74,  61,   1,\n",
            "         68,  71,  59,  57,  76,  61,  60,   0,  58,  61,  62,  71,  74,  61,\n",
            "          1,  77,  75,  65,  70,  63,   1,  76,  64,  65,  75,   1,  61,  29,\n",
            "         71,  71,  67,  13,   0,   0,  47,  65,  76,  68,  61,  25,   1,  46,\n",
            "         76,  77,  60,  65,  61,  75,   1,  65,  70,   1,  76,  64,  61,   1,\n",
            "         43,  75,  81,  59,  64,  71,  68,  71,  63,  81,   1,  71,  62,   1,\n",
            "         46,  61,  80,  11,   1,  49,  71,  68,  77,  69,  61,   1,  21,   0,\n",
            "          0,  28,  77,  76,  64,  71,  74,  25,   1,  35,  57,  78,  61,  68,\n",
            "         71,  59,  67,   1,  32,  68,  68,  65,  75,   0,   0,  45,  61,  68,\n",
            "         61,  57,  75,  61,   1,  60,  57,  76,  61,  25,   1,  42,  59,  76,\n",
            "         71,  58,  61,  74,   1,  23,  11,   1,  17,  15,  15,  19,   1,  54,\n",
            "         61,  29,  71,  71,  67,   1,   4,  16,  18,  21,  16,  20,  55,   0,\n",
            "          1,   1,   1,   1,   1,   1,   1,   1,   1,   1,   1,   1,   1,   1,\n",
            "          1,   1,  40,  71,  75,  76,   1,  74,  61,  59,  61,  70,  76,  68,\n",
            "         81,   1,  77,  72,  60,  57,  76,  61,  60,  25,   1,  31,  61,  59,\n",
            "         61,  69,  58,  61,  74,   1,  16,  23,  11,   1,  17,  15,  17,  15,\n",
            "          0,   0,  39,  57,  70,  63,  77,  57,  63,  61,  25,   1,  32,  70,\n",
            "         63,  68,  65,  75,  64,   0,   0,   0,   0,  10,  10,  10,   1,  46,\n",
            "         47,  28,  45,  47,   1,  42,  33,   1,  47,  35,  32,   1,  43,  45,\n",
            "         42,  37,  32,  30,  47,   1,  34,  48,  47,  32,  41,  29,  32,  45,\n",
            "         34,   1,  32,  29,  42,  42,  38,   1,  46,  47,  48,  31,  36,  32,\n",
            "         46,   1,  36,  41,   1,  47,  35,  32,   1,  43,  46,  52,  30,  35,\n",
            "         42,  39,  42,  34,  52,   1,  42,  33,   1,  46,  32,  51,  11,   1,\n",
            "         49,  42,  39,  48,  40,  32,   1,  21,   1,  10,  10,  10,   0,   0,\n",
            "          0,  32,  12,  76,  61,  80,  76,   1,  72,  74,  61,  72,  57,  74,\n",
            "         61,  60,   1,  58,  81,   1,  37,  77,  68,  65,  61,  76,   1,  46,\n",
            "         77,  76,  64,  61,  74,  68,  57,  70,  60,   1,  57,  70,  60,   1,\n",
            "         76,  64,  61,   1,  43,  74,  71,  66,  61,  59,  76,   1,  34,  77,\n",
            "         76,  61,  70,  58,  61,  74,  63,   1,  42,  70,  68,  65,  70,  61,\n",
            "          0,  31,  65,  75,  76,  74,  65,  58,  77,  76,  61,  60,   1,  43,\n",
            "         74,  71,  71,  62,  74,  61,  57,  60,  65,  70,  63,   1,  47,  61,\n",
            "         57,  69,   1,   8,  64,  76,  76,  72,  75,  25,  14,  14,  79,  79,\n",
            "         79,  13,  72,  63,  60,  72,  13,  70,  61,  76,   9,   0,   0,   0,\n",
            "          0,  46,  47,  48,  31,  36,  32,  46,   1,  36,  41,   1,  47,  35,\n",
            "         32,   1,  43,  46,  52,  30,  35,  42,  39,  42,  34,  52,   1,  42,\n",
            "         33,   1,  46,  32,  51,  11,   1,  49,  42,  39,  48,  40,  32,   1,\n",
            "         49,  36,   0,   0,   1,   1,   1,  46,  61,  80,   1,  65,  70,   1,\n",
            "         45,  61,  68,  57,  76,  65])\n"
          ]
        }
      ],
      "source": [
        "# let's now encode the entire text dataset and store it into a torch.Tensor\n",
        "import torch # we use PyTorch: https://pytorch.org\n",
        "data = torch.tensor(encode(text), dtype=torch.long)\n",
        "print(data.shape, data.dtype)\n",
        "print(data[:1000]) # the 1000 characters we looked at earier will to the GPT look like this"
      ]
    },
    {
      "cell_type": "markdown",
      "metadata": {
        "id": "YwLm0yWUmPi6"
      },
      "source": [
        "## Split the data into training and validation sets"
      ]
    },
    {
      "cell_type": "code",
      "execution_count": null,
      "metadata": {
        "id": "f_WIXqxz0lU5"
      },
      "outputs": [],
      "source": [
        "# Let's now split up the data into train and validation sets\n",
        "n = int(0.9*len(data)) # first 90% will be train, rest val\n",
        "train_data = data[:n]\n",
        "val_data = data[n:]"
      ]
    },
    {
      "cell_type": "code",
      "execution_count": null,
      "metadata": {
        "colab": {
          "base_uri": "https://localhost:8080/"
        },
        "id": "TD5Bj8Y6IAD4",
        "outputId": "c7f94f12-6443-4f4a-8504-57c81eb80b9e"
      },
      "outputs": [
        {
          "data": {
            "text/plain": [
              "tensor([110,  47,  64,  61,   1,  43,  74,  71,  66])"
            ]
          },
          "execution_count": 47,
          "metadata": {},
          "output_type": "execute_result"
        }
      ],
      "source": [
        "block_size = 8\n",
        "train_data[:block_size+1]"
      ]
    },
    {
      "cell_type": "code",
      "execution_count": null,
      "metadata": {
        "colab": {
          "base_uri": "https://localhost:8080/"
        },
        "id": "9HXDe8vGJCEn",
        "outputId": "7e224d0f-d58a-4edb-aecc-5155ebceba63"
      },
      "outputs": [
        {
          "name": "stdout",
          "output_type": "stream",
          "text": [
            "when input is tensor([110]) the target: 47\n",
            "when input is tensor([110,  47]) the target: 64\n",
            "when input is tensor([110,  47,  64]) the target: 61\n",
            "when input is tensor([110,  47,  64,  61]) the target: 1\n",
            "when input is tensor([110,  47,  64,  61,   1]) the target: 43\n",
            "when input is tensor([110,  47,  64,  61,   1,  43]) the target: 74\n",
            "when input is tensor([110,  47,  64,  61,   1,  43,  74]) the target: 71\n",
            "when input is tensor([110,  47,  64,  61,   1,  43,  74,  71]) the target: 66\n"
          ]
        }
      ],
      "source": [
        "x = train_data[:block_size]\n",
        "y = train_data[1:block_size+1]\n",
        "for t in range(block_size):\n",
        "    context = x[:t+1]\n",
        "    target = y[t]\n",
        "    print(f\"when input is {context} the target: {target}\")"
      ]
    },
    {
      "cell_type": "code",
      "execution_count": null,
      "metadata": {
        "colab": {
          "base_uri": "https://localhost:8080/"
        },
        "id": "Q3k1Czf7LuA9",
        "outputId": "a9b155b5-0972-48a9-c631-68efb4f36bf7"
      },
      "outputs": [
        {
          "name": "stdout",
          "output_type": "stream",
          "text": [
            "inputs:\n",
            "torch.Size([4, 8])\n",
            "tensor([[74, 11,  1, 57,  1, 81, 71, 77],\n",
            "        [72, 61, 71, 72, 68, 61,  0,  1],\n",
            "        [72, 71, 70, 75, 65, 58, 65, 68],\n",
            "        [70, 75, 77, 58, 75, 76, 57, 70]])\n",
            "targets:\n",
            "torch.Size([4, 8])\n",
            "tensor([[11,  1, 57,  1, 81, 71, 77, 70],\n",
            "        [61, 71, 72, 68, 61,  0,  1,  1],\n",
            "        [71, 70, 75, 65, 58, 65, 68, 65],\n",
            "        [75, 77, 58, 75, 76, 57, 70, 76]])\n",
            "----\n",
            "when input is [74] the target: 11\n",
            "when input is [74, 11] the target: 1\n",
            "when input is [74, 11, 1] the target: 57\n",
            "when input is [74, 11, 1, 57] the target: 1\n",
            "when input is [74, 11, 1, 57, 1] the target: 81\n",
            "when input is [74, 11, 1, 57, 1, 81] the target: 71\n",
            "when input is [74, 11, 1, 57, 1, 81, 71] the target: 77\n",
            "when input is [74, 11, 1, 57, 1, 81, 71, 77] the target: 70\n",
            "when input is [72] the target: 61\n",
            "when input is [72, 61] the target: 71\n",
            "when input is [72, 61, 71] the target: 72\n",
            "when input is [72, 61, 71, 72] the target: 68\n",
            "when input is [72, 61, 71, 72, 68] the target: 61\n",
            "when input is [72, 61, 71, 72, 68, 61] the target: 0\n",
            "when input is [72, 61, 71, 72, 68, 61, 0] the target: 1\n",
            "when input is [72, 61, 71, 72, 68, 61, 0, 1] the target: 1\n",
            "when input is [72] the target: 71\n",
            "when input is [72, 71] the target: 70\n",
            "when input is [72, 71, 70] the target: 75\n",
            "when input is [72, 71, 70, 75] the target: 65\n",
            "when input is [72, 71, 70, 75, 65] the target: 58\n",
            "when input is [72, 71, 70, 75, 65, 58] the target: 65\n",
            "when input is [72, 71, 70, 75, 65, 58, 65] the target: 68\n",
            "when input is [72, 71, 70, 75, 65, 58, 65, 68] the target: 65\n",
            "when input is [70] the target: 75\n",
            "when input is [70, 75] the target: 77\n",
            "when input is [70, 75, 77] the target: 58\n",
            "when input is [70, 75, 77, 58] the target: 75\n",
            "when input is [70, 75, 77, 58, 75] the target: 76\n",
            "when input is [70, 75, 77, 58, 75, 76] the target: 57\n",
            "when input is [70, 75, 77, 58, 75, 76, 57] the target: 70\n",
            "when input is [70, 75, 77, 58, 75, 76, 57, 70] the target: 76\n"
          ]
        }
      ],
      "source": [
        "torch.manual_seed(1337)\n",
        "batch_size = 4 # how many independent sequences will we process in parallel?\n",
        "block_size = 8 # what is the maximum context length for predictions?\n",
        "\n",
        "def get_batch(split):\n",
        "    # generate a small batch of data of inputs x and targets y\n",
        "    data = train_data if split == 'train' else val_data\n",
        "    ix = torch.randint(len(data) - block_size, (batch_size,))\n",
        "    x = torch.stack([data[i:i+block_size] for i in ix])\n",
        "    y = torch.stack([data[i+1:i+block_size+1] for i in ix])\n",
        "    return x, y\n",
        "\n",
        "xb, yb = get_batch('train')\n",
        "print('inputs:')\n",
        "print(xb.shape)\n",
        "print(xb)\n",
        "print('targets:')\n",
        "print(yb.shape)\n",
        "print(yb)\n",
        "\n",
        "print('----')\n",
        "\n",
        "for b in range(batch_size): # batch dimension\n",
        "    for t in range(block_size): # time dimension\n",
        "        context = xb[b, :t+1]\n",
        "        target = yb[b,t]\n",
        "        print(f\"when input is {context.tolist()} the target: {target}\")"
      ]
    },
    {
      "cell_type": "code",
      "execution_count": null,
      "metadata": {
        "colab": {
          "base_uri": "https://localhost:8080/"
        },
        "id": "qpyyAeIzQjlO",
        "outputId": "ee205516-ae52-495b-9af6-b85c932373d7"
      },
      "outputs": [
        {
          "name": "stdout",
          "output_type": "stream",
          "text": [
            "tensor([[74, 11,  1, 57,  1, 81, 71, 77],\n",
            "        [72, 61, 71, 72, 68, 61,  0,  1],\n",
            "        [72, 71, 70, 75, 65, 58, 65, 68],\n",
            "        [70, 75, 77, 58, 75, 76, 57, 70]])\n"
          ]
        }
      ],
      "source": [
        "print(xb) # our input to the transformer"
      ]
    },
    {
      "cell_type": "markdown",
      "metadata": {
        "id": "cGo090GamPi_"
      },
      "source": [
        "# 2. Bigram language model"
      ]
    },
    {
      "cell_type": "code",
      "execution_count": null,
      "metadata": {
        "colab": {
          "base_uri": "https://localhost:8080/"
        },
        "id": "nql_1ER53oCf",
        "outputId": "12e02199-d4f5-4ad6-c89d-43310a4b246f"
      },
      "outputs": [
        {
          "name": "stdout",
          "output_type": "stream",
          "text": [
            "torch.Size([32, 111])\n",
            "tensor(5.4346, grad_fn=<NllLossBackward0>)\n",
            "\n",
            "™/ñü\"‘]npQ.%fw.rü\"àT—iH#$3Rkm4O$rI.N! T%á™?p—‘S™1j)#X_0OE,'’X/L‘SqtwpFq(n6ñ5VrG\n",
            "!/X•1½çL•yc!ñ•.E﻿pQw\n"
          ]
        }
      ],
      "source": [
        "import torch\n",
        "import torch.nn as nn\n",
        "from torch.nn import functional as F\n",
        "torch.manual_seed(1337)\n",
        "\n",
        "class BigramLanguageModel(nn.Module):\n",
        "\n",
        "    def __init__(self, vocab_size):\n",
        "        super().__init__()\n",
        "        # each token directly reads off the logits for the next token from a lookup table\n",
        "        self.token_embedding_table = nn.Embedding(vocab_size, vocab_size)\n",
        "\n",
        "    def forward(self, idx, targets=None):\n",
        "\n",
        "        # idx and targets are both (B,T) tensor of integers\n",
        "        logits = self.token_embedding_table(idx) # (B,T,C)\n",
        "\n",
        "        if targets is None:\n",
        "            loss = None\n",
        "        else:\n",
        "            B, T, C = logits.shape\n",
        "            logits = logits.view(B*T, C)\n",
        "            targets = targets.view(B*T)\n",
        "            loss = F.cross_entropy(logits, targets)\n",
        "\n",
        "        return logits, loss\n",
        "\n",
        "    def generate(self, idx, max_new_tokens):\n",
        "        # idx is (B, T) array of indices in the current context\n",
        "        for _ in range(max_new_tokens):\n",
        "            # get the predictions\n",
        "            logits, loss = self(idx)\n",
        "            # focus only on the last time step\n",
        "            logits = logits[:, -1, :] # becomes (B, C)\n",
        "            # apply softmax to get probabilities\n",
        "            probs = F.softmax(logits, dim=-1) # (B, C)\n",
        "            # sample from the distribution\n",
        "            idx_next = torch.multinomial(probs, num_samples=1) # (B, 1)\n",
        "            # append sampled index to the running sequence\n",
        "            idx = torch.cat((idx, idx_next), dim=1) # (B, T+1)\n",
        "        return idx\n",
        "\n",
        "m = BigramLanguageModel(vocab_size)\n",
        "logits, loss = m(xb, yb)\n",
        "print(logits.shape)\n",
        "print(loss)\n",
        "\n",
        "print(decode(m.generate(idx = torch.zeros((1, 1), dtype=torch.long), max_new_tokens=100)[0].tolist()))"
      ]
    },
    {
      "cell_type": "markdown",
      "metadata": {
        "id": "Fvb0iX2rmPjA"
      },
      "source": [
        "## Use the AdamW optimizer"
      ]
    },
    {
      "cell_type": "code",
      "execution_count": null,
      "metadata": {
        "id": "eTyJ8qAaDdiF"
      },
      "outputs": [],
      "source": [
        "# create a PyTorch optimizer\n",
        "optimizer = torch.optim.AdamW(m.parameters(), lr=1e-3)"
      ]
    },
    {
      "cell_type": "markdown",
      "metadata": {
        "id": "XdjGnGXkmPjB"
      },
      "source": [
        "## Questions\n",
        "1. (10 points) How many steps did you train the model for?\n",
        "\n",
        "I trained the model for 4000 steps. I started with 100 steps then increased it to 1000, and then 2000, 3000 and 4000.\n",
        "2. (15 points) How does the value of the loss function change with the number of steps? Provide a few examples, such as, after 100 steps the loss was 4.656, and after 1,000 steps the loss was 4.231.\n",
        "\n",
        "At 100 steps, the loss was 5.2366, at 1000 the loss was 4.0174, this shows a gain of 1.2192, and at 2000 steps, the loss was 2.8645 with a sharp devrease of 1.1529. At 3000 steps, the loss was 2.5213 and was 2.4750 at 4000. There is a shart decrease in loss value at the bigining of the training and later the loss value did not show a significant difference. I started the training again and had 2.54 loss at 100 steps and I have 2.440 loss at 1000 steps. This shows a significant difference from the previous set of results\n"
      ]
    },
    {
      "cell_type": "code",
      "execution_count": null,
      "metadata": {
        "colab": {
          "base_uri": "https://localhost:8080/"
        },
        "id": "Hs4kI8YdEkQj",
        "outputId": "732ffaa8-2fd5-474f-9368-425aaf9a1203"
      },
      "outputs": [
        {
          "name": "stdout",
          "output_type": "stream",
          "text": [
            "2.4402759075164795\n"
          ]
        }
      ],
      "source": [
        "batch_size = 32\n",
        "for steps in range(1000): # increase number of steps for good results...\n",
        "\n",
        "    # sample a batch of data\n",
        "    xb, yb = get_batch('train')\n",
        "\n",
        "    # evaluate the loss\n",
        "    logits, loss = m(xb, yb)\n",
        "    optimizer.zero_grad(set_to_none=True)\n",
        "    loss.backward()\n",
        "    optimizer.step()\n",
        "\n",
        "print(loss.item())"
      ]
    },
    {
      "cell_type": "code",
      "execution_count": null,
      "metadata": {
        "colab": {
          "base_uri": "https://localhost:8080/"
        },
        "id": "EcVIDWAZEtjN",
        "outputId": "dd2d8034-94c0-448c-dc5f-e6d0d0946dce"
      },
      "outputs": [
        {
          "name": "stdout",
          "output_type": "stream",
          "text": [
            "\n",
            "alins a meco athe, e, sg equrive-RSchicedereshld Fü0)™ün offe culllithltuathie atldis aff m  sof ve theng\n",
            "by al iars biished t ary, S½(ssed (pondivean thess s blithere\n",
            "  cithsese\n",
            " ostas y  heark at.\"s Zñhexthoifll ont t akrer hes\n",
            " f  alirendegrkimedolem schaly tend  o rilld acls opof  athof pon aro pof tionthe ct osed f tiouearecin d —Af wexull ),  quandrs heperel,\n",
            " ig t arer f\n",
            " d  be t alverarineathelir plat.\n",
            "palvat womovisthang\n",
            "fremuio Pralel atly  Stet\n",
            "  h te LOTha themodugan. t f Thashe'mara\n"
          ]
        }
      ],
      "source": [
        "print(decode(m.generate(idx = torch.zeros((1, 1), dtype=torch.long), max_new_tokens=500)[0].tolist()))"
      ]
    },
    {
      "cell_type": "markdown",
      "metadata": {
        "id": "XinV8nmAnmKN"
      },
      "source": [
        "# Optional: The mathematical trick in self-attention"
      ]
    },
    {
      "cell_type": "code",
      "execution_count": null,
      "metadata": {
        "colab": {
          "base_uri": "https://localhost:8080/"
        },
        "id": "tukiH-NbRBhA",
        "outputId": "ec90babc-c8cb-4d2c-8a0c-208cd7e5b5cc"
      },
      "outputs": [
        {
          "name": "stdout",
          "output_type": "stream",
          "text": [
            "a=\n",
            "tensor([[1.0000, 0.0000, 0.0000],\n",
            "        [0.5000, 0.5000, 0.0000],\n",
            "        [0.3333, 0.3333, 0.3333]])\n",
            "--\n",
            "b=\n",
            "tensor([[2., 7.],\n",
            "        [6., 4.],\n",
            "        [6., 5.]])\n",
            "--\n",
            "c=\n",
            "tensor([[2.0000, 7.0000],\n",
            "        [4.0000, 5.5000],\n",
            "        [4.6667, 5.3333]])\n"
          ]
        }
      ],
      "source": [
        "# toy example illustrating how matrix multiplication can be used for a \"weighted aggregation\"\n",
        "torch.manual_seed(42)\n",
        "a = torch.tril(torch.ones(3, 3))\n",
        "a = a / torch.sum(a, 1, keepdim=True)\n",
        "b = torch.randint(0,10,(3,2)).float()\n",
        "c = a @ b\n",
        "print('a=')\n",
        "print(a)\n",
        "print('--')\n",
        "print('b=')\n",
        "print(b)\n",
        "print('--')\n",
        "print('c=')\n",
        "print(c)"
      ]
    },
    {
      "cell_type": "code",
      "execution_count": null,
      "metadata": {
        "colab": {
          "base_uri": "https://localhost:8080/"
        },
        "id": "Hs_E24uRE8kr",
        "outputId": "45e904b1-7337-4219-9915-5434c8aff330"
      },
      "outputs": [
        {
          "data": {
            "text/plain": [
              "torch.Size([4, 8, 2])"
            ]
          },
          "execution_count": 63,
          "metadata": {},
          "output_type": "execute_result"
        }
      ],
      "source": [
        "# consider the following toy example:\n",
        "\n",
        "torch.manual_seed(1337)\n",
        "B,T,C = 4,8,2 # batch, time, channels\n",
        "x = torch.randn(B,T,C)\n",
        "x.shape"
      ]
    },
    {
      "cell_type": "code",
      "execution_count": null,
      "metadata": {
        "id": "86NuXX0fn7ps"
      },
      "outputs": [],
      "source": [
        "# We want x[b,t] = mean_{i<=t} x[b,i]\n",
        "xbow = torch.zeros((B,T,C))\n",
        "for b in range(B):\n",
        "    for t in range(T):\n",
        "        xprev = x[b,:t+1] # (t,C)\n",
        "        xbow[b,t] = torch.mean(xprev, 0)\n"
      ]
    },
    {
      "cell_type": "code",
      "execution_count": null,
      "metadata": {
        "colab": {
          "base_uri": "https://localhost:8080/"
        },
        "id": "yhdOAd6-wXkZ",
        "outputId": "e4a69eec-3ca7-4388-cc6b-4064947f8652"
      },
      "outputs": [
        {
          "data": {
            "text/plain": [
              "False"
            ]
          },
          "execution_count": 65,
          "metadata": {},
          "output_type": "execute_result"
        }
      ],
      "source": [
        "# version 2: using matrix multiply for a weighted aggregation\n",
        "wei = torch.tril(torch.ones(T, T))\n",
        "wei = wei / wei.sum(1, keepdim=True)\n",
        "xbow2 = wei @ x # (B, T, T) @ (B, T, C) ----> (B, T, C)\n",
        "torch.allclose(xbow, xbow2)"
      ]
    },
    {
      "cell_type": "code",
      "execution_count": null,
      "metadata": {
        "colab": {
          "base_uri": "https://localhost:8080/"
        },
        "id": "wOURrfG-ysoL",
        "outputId": "69abd5ff-a76e-4346-dd38-d6450789054f"
      },
      "outputs": [
        {
          "data": {
            "text/plain": [
              "False"
            ]
          },
          "execution_count": 66,
          "metadata": {},
          "output_type": "execute_result"
        }
      ],
      "source": [
        "# version 3: use Softmax\n",
        "tril = torch.tril(torch.ones(T, T))\n",
        "wei = torch.zeros((T,T))\n",
        "wei = wei.masked_fill(tril == 0, float('-inf'))\n",
        "wei = F.softmax(wei, dim=-1)\n",
        "xbow3 = wei @ x\n",
        "torch.allclose(xbow, xbow3)\n"
      ]
    },
    {
      "cell_type": "code",
      "execution_count": null,
      "metadata": {
        "colab": {
          "base_uri": "https://localhost:8080/"
        },
        "id": "EDarxEWIRMKq",
        "outputId": "47929cff-310b-4048-fc79-eafdbb06d49b"
      },
      "outputs": [
        {
          "data": {
            "text/plain": [
              "torch.Size([4, 8, 16])"
            ]
          },
          "execution_count": 67,
          "metadata": {},
          "output_type": "execute_result"
        }
      ],
      "source": [
        "# version 4: self-attention!\n",
        "torch.manual_seed(1337)\n",
        "B,T,C = 4,8,32 # batch, time, channels\n",
        "x = torch.randn(B,T,C)\n",
        "\n",
        "# let's see a single Head perform self-attention\n",
        "head_size = 16\n",
        "key = nn.Linear(C, head_size, bias=False)\n",
        "query = nn.Linear(C, head_size, bias=False)\n",
        "value = nn.Linear(C, head_size, bias=False)\n",
        "k = key(x)   # (B, T, 16)\n",
        "q = query(x) # (B, T, 16)\n",
        "wei =  q @ k.transpose(-2, -1) # (B, T, 16) @ (B, 16, T) ---> (B, T, T)\n",
        "\n",
        "tril = torch.tril(torch.ones(T, T))\n",
        "#wei = torch.zeros((T,T))\n",
        "wei = wei.masked_fill(tril == 0, float('-inf'))\n",
        "wei = F.softmax(wei, dim=-1)\n",
        "\n",
        "v = value(x)\n",
        "out = wei @ v\n",
        "#out = wei @ x\n",
        "\n",
        "out.shape"
      ]
    },
    {
      "cell_type": "code",
      "execution_count": null,
      "metadata": {
        "colab": {
          "base_uri": "https://localhost:8080/"
        },
        "id": "vT1hdtzXCjgL",
        "outputId": "6aaa4fdb-73ed-46d3-a840-5e08e261cbe5"
      },
      "outputs": [
        {
          "data": {
            "text/plain": [
              "tensor([[1.0000, 0.0000, 0.0000, 0.0000, 0.0000, 0.0000, 0.0000, 0.0000],\n",
              "        [0.1574, 0.8426, 0.0000, 0.0000, 0.0000, 0.0000, 0.0000, 0.0000],\n",
              "        [0.2088, 0.1646, 0.6266, 0.0000, 0.0000, 0.0000, 0.0000, 0.0000],\n",
              "        [0.5792, 0.1187, 0.1889, 0.1131, 0.0000, 0.0000, 0.0000, 0.0000],\n",
              "        [0.0294, 0.1052, 0.0469, 0.0276, 0.7909, 0.0000, 0.0000, 0.0000],\n",
              "        [0.0176, 0.2689, 0.0215, 0.0089, 0.6812, 0.0019, 0.0000, 0.0000],\n",
              "        [0.1691, 0.4066, 0.0438, 0.0416, 0.1048, 0.2012, 0.0329, 0.0000],\n",
              "        [0.0210, 0.0843, 0.0555, 0.2297, 0.0573, 0.0709, 0.2423, 0.2391]],\n",
              "       grad_fn=<SelectBackward0>)"
            ]
          },
          "execution_count": 68,
          "metadata": {},
          "output_type": "execute_result"
        }
      ],
      "source": [
        "wei[0]"
      ]
    },
    {
      "cell_type": "markdown",
      "metadata": {
        "id": "M5CvobiQ0pLr"
      },
      "source": [
        "Notes:\n",
        "- Attention is a **communication mechanism**. Can be seen as nodes in a directed graph looking at each other and aggregating information with a weighted sum from all nodes that point to them, with data-dependent weights.\n",
        "- There is no notion of space. Attention simply acts over a set of vectors. This is why we need to positionally encode tokens.\n",
        "- Each example across batch dimension is of course processed completely independently and never \"talk\" to each other\n",
        "- In an \"encoder\" attention block just delete the single line that does masking with `tril`, allowing all tokens to communicate. This block here is called a \"decoder\" attention block because it has triangular masking, and is usually used in autoregressive settings, like language modeling.\n",
        "- \"self-attention\" just means that the keys and values are produced from the same source as queries. In \"cross-attention\", the queries still get produced from x, but the keys and values come from some other, external source (e.g. an encoder module)\n",
        "- \"Scaled\" attention additional divides `wei` by 1/sqrt(head_size). This makes it so when input Q,K are unit variance, wei will be unit variance too and Softmax will stay diffuse and not saturate too much. Illustration below"
      ]
    },
    {
      "cell_type": "code",
      "execution_count": null,
      "metadata": {
        "id": "4SNbLq5z3oBw"
      },
      "outputs": [],
      "source": [
        "k = torch.randn(B,T,head_size)\n",
        "q = torch.randn(B,T,head_size)\n",
        "wei = q @ k.transpose(-2, -1) * head_size**-0.5"
      ]
    },
    {
      "cell_type": "code",
      "execution_count": null,
      "metadata": {
        "colab": {
          "base_uri": "https://localhost:8080/"
        },
        "id": "Nl6I9n9IRTSo",
        "outputId": "c4e5b20b-f012-4566-9abf-a7e3b34eff09"
      },
      "outputs": [
        {
          "data": {
            "text/plain": [
              "tensor(1.0449)"
            ]
          },
          "execution_count": 70,
          "metadata": {},
          "output_type": "execute_result"
        }
      ],
      "source": [
        "k.var()"
      ]
    },
    {
      "cell_type": "code",
      "execution_count": null,
      "metadata": {
        "colab": {
          "base_uri": "https://localhost:8080/"
        },
        "id": "T1tQx7oeRvtc",
        "outputId": "29c76a0b-3cc3-410b-8eed-ae0b1fa9de36"
      },
      "outputs": [
        {
          "data": {
            "text/plain": [
              "tensor(1.0700)"
            ]
          },
          "execution_count": 71,
          "metadata": {},
          "output_type": "execute_result"
        }
      ],
      "source": [
        "q.var()"
      ]
    },
    {
      "cell_type": "code",
      "execution_count": null,
      "metadata": {
        "colab": {
          "base_uri": "https://localhost:8080/"
        },
        "id": "MLb_odHU3iKM",
        "outputId": "7d4cd894-aea2-40b5-c59f-b2e83a3ab266"
      },
      "outputs": [
        {
          "data": {
            "text/plain": [
              "tensor(1.0918)"
            ]
          },
          "execution_count": 72,
          "metadata": {},
          "output_type": "execute_result"
        }
      ],
      "source": [
        "wei.var()"
      ]
    },
    {
      "cell_type": "code",
      "execution_count": null,
      "metadata": {
        "colab": {
          "base_uri": "https://localhost:8080/"
        },
        "id": "JB82yzt44REI",
        "outputId": "70595905-7ab4-4fcf-86fd-03ca3fc9c13b"
      },
      "outputs": [
        {
          "data": {
            "text/plain": [
              "tensor([0.1925, 0.1426, 0.2351, 0.1426, 0.2872])"
            ]
          },
          "execution_count": 73,
          "metadata": {},
          "output_type": "execute_result"
        }
      ],
      "source": [
        "torch.softmax(torch.tensor([0.1, -0.2, 0.3, -0.2, 0.5]), dim=-1)"
      ]
    },
    {
      "cell_type": "code",
      "execution_count": null,
      "metadata": {
        "colab": {
          "base_uri": "https://localhost:8080/"
        },
        "id": "Mpt8569BB9_f",
        "outputId": "3a55a083-b185-4bb1-fa99-b7d77d76511a"
      },
      "outputs": [
        {
          "data": {
            "text/plain": [
              "tensor([0.0326, 0.0030, 0.1615, 0.0030, 0.8000])"
            ]
          },
          "execution_count": 74,
          "metadata": {},
          "output_type": "execute_result"
        }
      ],
      "source": [
        "torch.softmax(torch.tensor([0.1, -0.2, 0.3, -0.2, 0.5])*8, dim=-1) # gets too peaky, converges to one-hot"
      ]
    },
    {
      "cell_type": "code",
      "execution_count": null,
      "metadata": {
        "colab": {
          "base_uri": "https://localhost:8080/"
        },
        "id": "2Num7sX9CKOH",
        "outputId": "8d52d4f4-50e5-43cd-e6d3-ccbc97f9b117"
      },
      "outputs": [
        {
          "data": {
            "text/plain": [
              "torch.Size([32, 100])"
            ]
          },
          "execution_count": 75,
          "metadata": {},
          "output_type": "execute_result"
        }
      ],
      "source": [
        "class LayerNorm1d: # (used to be BatchNorm1d)\n",
        "\n",
        "  def __init__(self, dim, eps=1e-5, momentum=0.1):\n",
        "    self.eps = eps\n",
        "    self.gamma = torch.ones(dim)\n",
        "    self.beta = torch.zeros(dim)\n",
        "\n",
        "  def __call__(self, x):\n",
        "    # calculate the forward pass\n",
        "    xmean = x.mean(1, keepdim=True) # batch mean\n",
        "    xvar = x.var(1, keepdim=True) # batch variance\n",
        "    xhat = (x - xmean) / torch.sqrt(xvar + self.eps) # normalize to unit variance\n",
        "    self.out = self.gamma * xhat + self.beta\n",
        "    return self.out\n",
        "\n",
        "  def parameters(self):\n",
        "    return [self.gamma, self.beta]\n",
        "\n",
        "torch.manual_seed(1337)\n",
        "module = LayerNorm1d(100)\n",
        "x = torch.randn(32, 100) # batch size 32 of 100-dimensional vectors\n",
        "x = module(x)\n",
        "x.shape"
      ]
    },
    {
      "cell_type": "code",
      "execution_count": null,
      "metadata": {
        "colab": {
          "base_uri": "https://localhost:8080/"
        },
        "id": "633T2cmnW1uk",
        "outputId": "b1da99a5-c051-4b73-e740-09d8c578be04"
      },
      "outputs": [
        {
          "data": {
            "text/plain": [
              "(tensor(0.1469), tensor(0.8803))"
            ]
          },
          "execution_count": 76,
          "metadata": {},
          "output_type": "execute_result"
        }
      ],
      "source": [
        "x[:,0].mean(), x[:,0].std() # mean,std of one feature across all batch inputs"
      ]
    },
    {
      "cell_type": "code",
      "execution_count": null,
      "metadata": {
        "colab": {
          "base_uri": "https://localhost:8080/"
        },
        "id": "LN9cK9BoXCYb",
        "outputId": "d24c301b-bc44-4125-b381-a4028ded9ba9"
      },
      "outputs": [
        {
          "data": {
            "text/plain": [
              "(tensor(-9.5367e-09), tensor(1.0000))"
            ]
          },
          "execution_count": 77,
          "metadata": {},
          "output_type": "execute_result"
        }
      ],
      "source": [
        "x[0,:].mean(), x[0,:].std() # mean,std of a single input from the batch, of its features"
      ]
    },
    {
      "cell_type": "code",
      "execution_count": null,
      "metadata": {
        "id": "dRJH6wM_XFfU"
      },
      "outputs": [],
      "source": [
        "# French to English translation example:\n",
        "\n",
        "# <--------- ENCODE ------------------><--------------- DECODE ----------------->\n",
        "# les réseaux de neurones sont géniaux! <START> neural networks are awesome!<END>\n",
        "\n"
      ]
    },
    {
      "cell_type": "markdown",
      "metadata": {
        "id": "ZcvKeBXoZFOY"
      },
      "source": [
        "# 3. Encoder language model\n",
        "To run this section of the notebook, you need a GPU (you can run it on CPU but it will take a much longer). You can run it in [Google Colab](https://colab.research.google.com/), and from the menu select **Runtime/Change runtime type** and select **T4 GPU** for **Hardware accelerator**. Then click **Save**."
      ]
    },
    {
      "cell_type": "code",
      "execution_count": null,
      "metadata": {
        "colab": {
          "background_save": true,
          "base_uri": "https://localhost:8080/"
        },
        "id": "hoelkOrFY8bN",
        "outputId": "1e0801d5-7925-4809-b3c1-b52a70ce274d"
      },
      "outputs": [
        {
          "name": "stdout",
          "output_type": "stream",
          "text": [
            "0.215663 M parameters\n",
            "step 0: train loss 4.8891, val loss 4.8821\n",
            "step 100: train loss 2.6960, val loss 2.8135\n",
            "step 200: train loss 2.5591, val loss 2.6816\n",
            "step 300: train loss 2.4640, val loss 2.5873\n",
            "step 400: train loss 2.3950, val loss 2.4981\n",
            "step 500: train loss 2.2936, val loss 2.4249\n",
            "step 600: train loss 2.2377, val loss 2.3617\n",
            "step 700: train loss 2.2042, val loss 2.3407\n",
            "step 800: train loss 2.1375, val loss 2.2788\n",
            "step 900: train loss 2.0941, val loss 2.2727\n",
            "step 1000: train loss 2.0602, val loss 2.2144\n",
            "step 1100: train loss 2.0468, val loss 2.2066\n",
            "step 1200: train loss 2.0154, val loss 2.1764\n",
            "step 1300: train loss 1.9858, val loss 2.1680\n",
            "step 1400: train loss 1.9769, val loss 2.1307\n",
            "step 1500: train loss 1.9534, val loss 2.1350\n",
            "step 1600: train loss 1.9198, val loss 2.0972\n",
            "step 1700: train loss 1.8969, val loss 2.0835\n",
            "step 1800: train loss 1.8897, val loss 2.0748\n",
            "step 1900: train loss 1.8671, val loss 2.0432\n",
            "step 2000: train loss 1.8575, val loss 2.0295\n",
            "step 2100: train loss 1.8366, val loss 2.0448\n",
            "step 2200: train loss 1.8172, val loss 2.0149\n",
            "step 2300: train loss 1.8096, val loss 2.0060\n",
            "step 2400: train loss 1.8048, val loss 2.0050\n",
            "step 2500: train loss 1.7984, val loss 1.9842\n",
            "step 2600: train loss 1.7767, val loss 1.9614\n",
            "step 2700: train loss 1.7603, val loss 1.9559\n",
            "step 2800: train loss 1.7684, val loss 1.9466\n",
            "step 2900: train loss 1.7293, val loss 1.9270\n",
            "step 3000: train loss 1.7411, val loss 1.9246\n",
            "step 3100: train loss 1.7399, val loss 1.9199\n",
            "step 3200: train loss 1.7310, val loss 1.9114\n",
            "step 3300: train loss 1.7298, val loss 1.9116\n",
            "step 3400: train loss 1.7013, val loss 1.9099\n",
            "step 3500: train loss 1.6820, val loss 1.8800\n",
            "step 3600: train loss 1.6886, val loss 1.8990\n",
            "step 3700: train loss 1.6888, val loss 1.8829\n",
            "step 3800: train loss 1.6801, val loss 1.8887\n",
            "step 3900: train loss 1.6603, val loss 1.8905\n",
            "step 4000: train loss 1.6645, val loss 1.8711\n",
            "step 4100: train loss 1.6562, val loss 1.8484\n",
            "step 4200: train loss 1.6467, val loss 1.8321\n",
            "step 4300: train loss 1.6399, val loss 1.8557\n",
            "step 4400: train loss 1.6423, val loss 1.8455\n",
            "step 4500: train loss 1.6358, val loss 1.8482\n",
            "step 4600: train loss 1.6363, val loss 1.8194\n",
            "step 4700: train loss 1.6321, val loss 1.8429\n",
            "step 4800: train loss 1.6311, val loss 1.8233\n",
            "step 4900: train loss 1.6118, val loss 1.8209\n",
            "step 4999: train loss 1.6155, val loss 1.8025\n",
            "\n",
            "not on the practice atters the free of the secridle, in when ording the attes\n",
            "and serting becaused real_, socrains of limity. Ced Maris exais_ rule espericiatio\n",
            "Chuld 634)\n",
            "       \n",
            "    in sefully obstoms in a qurring than as oncietie. Hunder yol. Or social for the farmi with enligian in the find is mainsed to\n",
            "    world would that furstine a may cimpletian write Europe German (Germ oper His Navolue hoot artin devell legal\n",
            "    imposion's of thou sacreous atter and, i, nabter and heround be to stateris of the be filine and the a regurant be become treated to only they it comple.\" The may of belief and cirrit it in it ill which been those\n",
            "    or\n",
            "    funtiling bhoy \"reality of the felibse' \"clasions intercoursy has in the\n",
            "priosels. These (aracte as tryoding of 6, \"the actid whom reven that we\n",
            "    has, as act. Thus pronceptial as the will for that, at expeart betcomes, and in orize is illigiation confery\n",
            "    up hilital leas. But in his frenct and, only co\n",
            "pet that in the Sancted is civil coality room excitives, the catel indea Quirtual\n",
            "threal and of unreal, the world to found it form it is also societe vomery als with the many sacrafure of\n",
            "the was is all and some, we secent to exaul is become was results the mode, \"a vol law, as the work of their such of civil-mate master social pracer Cose. Nhas, but belief the the human beloginsh ceivery per intercourse this is extencierin still and very out water, in knomes, and day.. We) need., or not the proCh. Fever Fordon, _rexual\n",
            "Cracticity Accei, Postitute Hage Essecias--Prevourt of Aperisted a for. But is only, it cassetichic life at the pillebly. A shoulses at century marriage. The votiew a for a musted adue life, and are awells diving to which cluss of\n",
            "    thous hois, as then accourse of\n",
            "espence apposed through have hudded or, every ye the only the unsocietemetic the\n",
            "    insecred by shtance of Anot, we alutive child the the intercust cases. But in Shel the Goods of probring and woman\n",
            "chilloging it is suchine, lite is per athand\n"
          ]
        }
      ],
      "source": [
        "import torch\n",
        "import torch.nn as nn\n",
        "from torch.nn import functional as F\n",
        "\n",
        "# hyperparameters\n",
        "batch_size = 16 # how many independent sequences will we process in parallel?\n",
        "block_size = 32 # what is the maximum context length for predictions?\n",
        "max_iters = 5000\n",
        "eval_interval = 100\n",
        "learning_rate = 1e-3\n",
        "device = 'cuda' if torch.cuda.is_available() else 'cpu'\n",
        "eval_iters = 200\n",
        "n_embd = 64\n",
        "n_head = 4\n",
        "n_layer = 4\n",
        "dropout = 0.0\n",
        "# ------------\n",
        "\n",
        "torch.manual_seed(1337)\n",
        "\n",
        "# wget https://raw.githubusercontent.com/karpathy/char-rnn/master/data/tinyshakespeare/input.txt\n",
        "# You will have to change the path to the 'input.txt' file (e.g., /content/input.txt)\n",
        "with open('/content/pg13615.txt', 'r', encoding='utf-8') as f:\n",
        "    text = f.read()\n",
        "\n",
        "# here are all the unique characters that occur in this text\n",
        "chars = sorted(list(set(text)))\n",
        "vocab_size = len(chars)\n",
        "# create a mapping from characters to integers\n",
        "stoi = { ch:i for i,ch in enumerate(chars) }\n",
        "itos = { i:ch for i,ch in enumerate(chars) }\n",
        "encode = lambda s: [stoi[c] for c in s] # encoder: take a string, output a list of integers\n",
        "decode = lambda l: ''.join([itos[i] for i in l]) # decoder: take a list of integers, output a string\n",
        "\n",
        "# Train and test splits\n",
        "data = torch.tensor(encode(text), dtype=torch.long)\n",
        "n = int(0.9*len(data)) # first 90% will be train, rest val\n",
        "train_data = data[:n]\n",
        "val_data = data[n:]\n",
        "\n",
        "# data loading\n",
        "def get_batch(split):\n",
        "    # generate a small batch of data of inputs x and targets y\n",
        "    data = train_data if split == 'train' else val_data\n",
        "    ix = torch.randint(len(data) - block_size, (batch_size,))\n",
        "    x = torch.stack([data[i:i+block_size] for i in ix])\n",
        "    y = torch.stack([data[i+1:i+block_size+1] for i in ix])\n",
        "    x, y = x.to(device), y.to(device)\n",
        "    return x, y\n",
        "\n",
        "@torch.no_grad()\n",
        "def estimate_loss():\n",
        "    out = {}\n",
        "    model.eval()\n",
        "    for split in ['train', 'val']:\n",
        "        losses = torch.zeros(eval_iters)\n",
        "        for k in range(eval_iters):\n",
        "            X, Y = get_batch(split)\n",
        "            logits, loss = model(X, Y)\n",
        "            losses[k] = loss.item()\n",
        "        out[split] = losses.mean()\n",
        "    model.train()\n",
        "    return out\n",
        "\n",
        "class Head(nn.Module):\n",
        "    \"\"\" one head of self-attention \"\"\"\n",
        "\n",
        "    def __init__(self, head_size):\n",
        "        super().__init__()\n",
        "        self.key = nn.Linear(n_embd, head_size, bias=False)\n",
        "        self.query = nn.Linear(n_embd, head_size, bias=False)\n",
        "        self.value = nn.Linear(n_embd, head_size, bias=False)\n",
        "        self.register_buffer('tril', torch.tril(torch.ones(block_size, block_size)))\n",
        "\n",
        "        self.dropout = nn.Dropout(dropout)\n",
        "\n",
        "    def forward(self, x):\n",
        "        B,T,C = x.shape\n",
        "        k = self.key(x)   # (B,T,C)\n",
        "        q = self.query(x) # (B,T,C)\n",
        "        # compute attention scores (\"affinities\")\n",
        "        wei = q @ k.transpose(-2,-1) * C**-0.5 # (B, T, C) @ (B, C, T) -> (B, T, T)\n",
        "        wei = wei.masked_fill(self.tril[:T, :T] == 0, float('-inf')) # (B, T, T)\n",
        "        wei = F.softmax(wei, dim=-1) # (B, T, T)\n",
        "        wei = self.dropout(wei)\n",
        "        # perform the weighted aggregation of the values\n",
        "        v = self.value(x) # (B,T,C)\n",
        "        out = wei @ v # (B, T, T) @ (B, T, C) -> (B, T, C)\n",
        "        return out\n",
        "\n",
        "class MultiHeadAttention(nn.Module):\n",
        "    \"\"\" multiple heads of self-attention in parallel \"\"\"\n",
        "\n",
        "    def __init__(self, num_heads, head_size):\n",
        "        super().__init__()\n",
        "        self.heads = nn.ModuleList([Head(head_size) for _ in range(num_heads)])\n",
        "        self.proj = nn.Linear(n_embd, n_embd)\n",
        "        self.dropout = nn.Dropout(dropout)\n",
        "\n",
        "    def forward(self, x):\n",
        "        out = torch.cat([h(x) for h in self.heads], dim=-1)\n",
        "        out = self.dropout(self.proj(out))\n",
        "        return out\n",
        "\n",
        "class FeedFoward(nn.Module):\n",
        "    \"\"\" a simple linear layer followed by a non-linearity \"\"\"\n",
        "\n",
        "    def __init__(self, n_embd):\n",
        "        super().__init__()\n",
        "        self.net = nn.Sequential(\n",
        "            nn.Linear(n_embd, 4 * n_embd),\n",
        "            nn.ReLU(),\n",
        "            nn.Linear(4 * n_embd, n_embd),\n",
        "            nn.Dropout(dropout),\n",
        "        )\n",
        "\n",
        "    def forward(self, x):\n",
        "        return self.net(x)\n",
        "\n",
        "class Block(nn.Module):\n",
        "    \"\"\" Transformer block: communication followed by computation \"\"\"\n",
        "\n",
        "    def __init__(self, n_embd, n_head):\n",
        "        # n_embd: embedding dimension, n_head: the number of heads we'd like\n",
        "        super().__init__()\n",
        "        head_size = n_embd // n_head\n",
        "        self.sa = MultiHeadAttention(n_head, head_size)\n",
        "        self.ffwd = FeedFoward(n_embd)\n",
        "        self.ln1 = nn.LayerNorm(n_embd)\n",
        "        self.ln2 = nn.LayerNorm(n_embd)\n",
        "\n",
        "    def forward(self, x):\n",
        "        x = x + self.sa(self.ln1(x))\n",
        "        x = x + self.ffwd(self.ln2(x))\n",
        "        return x\n",
        "\n",
        "# super simple bigram model\n",
        "class BigramLanguageModel(nn.Module):\n",
        "\n",
        "    def __init__(self):\n",
        "        super().__init__()\n",
        "        # each token directly reads off the logits for the next token from a lookup table\n",
        "        self.token_embedding_table = nn.Embedding(vocab_size, n_embd)\n",
        "        self.position_embedding_table = nn.Embedding(block_size, n_embd)\n",
        "        self.blocks = nn.Sequential(*[Block(n_embd, n_head=n_head) for _ in range(n_layer)])\n",
        "        self.ln_f = nn.LayerNorm(n_embd) # final layer norm\n",
        "        self.lm_head = nn.Linear(n_embd, vocab_size)\n",
        "\n",
        "    def forward(self, idx, targets=None):\n",
        "        B, T = idx.shape\n",
        "\n",
        "        # idx and targets are both (B,T) tensor of integers\n",
        "        tok_emb = self.token_embedding_table(idx) # (B,T,C)\n",
        "        pos_emb = self.position_embedding_table(torch.arange(T, device=device)) # (T,C)\n",
        "        x = tok_emb + pos_emb # (B,T,C)\n",
        "        x = self.blocks(x) # (B,T,C)\n",
        "        x = self.ln_f(x) # (B,T,C)\n",
        "        logits = self.lm_head(x) # (B,T,vocab_size)\n",
        "\n",
        "        if targets is None:\n",
        "            loss = None\n",
        "        else:\n",
        "            B, T, C = logits.shape\n",
        "            logits = logits.view(B*T, C)\n",
        "            targets = targets.view(B*T)\n",
        "            loss = F.cross_entropy(logits, targets)\n",
        "\n",
        "        return logits, loss\n",
        "\n",
        "    def generate(self, idx, max_new_tokens):\n",
        "        # idx is (B, T) array of indices in the current context\n",
        "        for _ in range(max_new_tokens):\n",
        "            # crop idx to the last block_size tokens\n",
        "            idx_cond = idx[:, -block_size:]\n",
        "            # get the predictions\n",
        "            logits, loss = self(idx_cond)\n",
        "            # focus only on the last time step\n",
        "            logits = logits[:, -1, :] # becomes (B, C)\n",
        "            # apply softmax to get probabilities\n",
        "            probs = F.softmax(logits, dim=-1) # (B, C)\n",
        "            # sample from the distribution\n",
        "            idx_next = torch.multinomial(probs, num_samples=1) # (B, 1)\n",
        "            # append sampled index to the running sequence\n",
        "            idx = torch.cat((idx, idx_next), dim=1) # (B, T+1)\n",
        "        return idx\n",
        "\n",
        "model = BigramLanguageModel()\n",
        "m = model.to(device)\n",
        "# print the number of parameters in the model\n",
        "print(sum(p.numel() for p in m.parameters())/1e6, 'M parameters')\n",
        "\n",
        "# create a PyTorch optimizer\n",
        "optimizer = torch.optim.AdamW(model.parameters(), lr=learning_rate)\n",
        "\n",
        "for iter in range(max_iters):\n",
        "\n",
        "    # every once in a while evaluate the loss on train and val sets\n",
        "    if iter % eval_interval == 0 or iter == max_iters - 1:\n",
        "        losses = estimate_loss()\n",
        "        print(f\"step {iter}: train loss {losses['train']:.4f}, val loss {losses['val']:.4f}\")\n",
        "\n",
        "    # sample a batch of data\n",
        "    xb, yb = get_batch('train')\n",
        "\n",
        "    # evaluate the loss\n",
        "    logits, loss = model(xb, yb)\n",
        "    optimizer.zero_grad(set_to_none=True)\n",
        "    loss.backward()\n",
        "    optimizer.step()\n",
        "\n",
        "# generate from the model\n",
        "context = torch.zeros((1, 1), dtype=torch.long, device=device)\n",
        "print(decode(m.generate(context, max_new_tokens=2000)[0].tolist()))"
      ]
    },
    {
      "cell_type": "markdown",
      "metadata": {
        "id": "w9IPhWdJmPjX"
      },
      "source": [
        "## Questions (25 points each)\n",
        "1. How many attention heads are used in this encoder?\n",
        "\n",
        "4 attention heads are used in the encoder because n_head is set to 4\n",
        "2. How many layers are in each feed-forward network? List these layers.\n",
        "\n",
        "Each feed-forward network consists of 2 linear layers with ReLU function in between and a dropout layer. The number of layers in each feed-forward network is 3\n",
        "3. How many layers are in the transformer block? List these layers.\n",
        "\n",
        "The transformer block is made up of the multi-head attention layer (the heads are grouped onto one layer, so there are four attention heads but still only one layer) the feed-forward network (made up of three layers), a normalization layer and a second normalization layer. Therefore, there are 4 main layers in each transformer block but if the component layers of the feed-forward network are being considered (two linear layers and one dropout layer), there are 6 total layers within each block."
      ]
    },
    {
      "cell_type": "markdown",
      "metadata": {
        "id": "z2FaxyJvmPjY"
      },
      "source": [
        "# Extra credit (10 points)\n",
        "How does the **learning rate** affect the model (in terms of learning time, and accuracy)? Pick a different value for the learning rate and run the code to show this.\n",
        "\n",
        "Smaller learning rates necessitate more training epochs because of the fewer changes and takes more time to complete. On the other hand, larger learning rates result in faster changes. Larger learning rates frequently result in a suboptimal final set of weights and less accurate result. The code below uses a learning rate lr-6 and the validation and train loss with the larger rate is higher for each step of the process and the output indicates higher level of inaccuracy as it produces non-readable words"
      ]
    },
    {
      "cell_type": "code",
      "source": [
        "import torch\n",
        "import torch.nn as nn\n",
        "from torch.nn import functional as F\n",
        "\n",
        "# hyperparameters\n",
        "batch_size = 16 # how many independent sequences will we process in parallel?\n",
        "block_size = 32 # what is the maximum context length for predictions?\n",
        "max_iters = 5000\n",
        "eval_interval = 100\n",
        "learning_rate = 1e-6\n",
        "device = 'cuda' if torch.cuda.is_available() else 'cpu'\n",
        "eval_iters = 200\n",
        "n_embd = 64\n",
        "n_head = 4\n",
        "n_layer = 4\n",
        "dropout = 0.0\n",
        "# ------------\n",
        "\n",
        "torch.manual_seed(1337)\n",
        "\n",
        "# wget https://raw.githubusercontent.com/karpathy/char-rnn/master/data/tinyshakespeare/input.txt\n",
        "# You will have to change the path to the 'input.txt' file (e.g., /content/input.txt)\n",
        "with open('/content/pg13615.txt', 'r', encoding='utf-8') as f:\n",
        "    text = f.read()\n",
        "\n",
        "# here are all the unique characters that occur in this text\n",
        "chars = sorted(list(set(text)))\n",
        "vocab_size = len(chars)\n",
        "# create a mapping from characters to integers\n",
        "stoi = { ch:i for i,ch in enumerate(chars) }\n",
        "itos = { i:ch for i,ch in enumerate(chars) }\n",
        "encode = lambda s: [stoi[c] for c in s] # encoder: take a string, output a list of integers\n",
        "decode = lambda l: ''.join([itos[i] for i in l]) # decoder: take a list of integers, output a string\n",
        "\n",
        "# Train and test splits\n",
        "data = torch.tensor(encode(text), dtype=torch.long)\n",
        "n = int(0.9*len(data)) # first 90% will be train, rest val\n",
        "train_data = data[:n]\n",
        "val_data = data[n:]\n",
        "\n",
        "# data loading\n",
        "def get_batch(split):\n",
        "    # generate a small batch of data of inputs x and targets y\n",
        "    data = train_data if split == 'train' else val_data\n",
        "    ix = torch.randint(len(data) - block_size, (batch_size,))\n",
        "    x = torch.stack([data[i:i+block_size] for i in ix])\n",
        "    y = torch.stack([data[i+1:i+block_size+1] for i in ix])\n",
        "    x, y = x.to(device), y.to(device)\n",
        "    return x, y\n",
        "\n",
        "@torch.no_grad()\n",
        "def estimate_loss():\n",
        "    out = {}\n",
        "    model.eval()\n",
        "    for split in ['train', 'val']:\n",
        "        losses = torch.zeros(eval_iters)\n",
        "        for k in range(eval_iters):\n",
        "            X, Y = get_batch(split)\n",
        "            logits, loss = model(X, Y)\n",
        "            losses[k] = loss.item()\n",
        "        out[split] = losses.mean()\n",
        "    model.train()\n",
        "    return out\n",
        "\n",
        "class Head(nn.Module):\n",
        "    \"\"\" one head of self-attention \"\"\"\n",
        "\n",
        "    def __init__(self, head_size):\n",
        "        super().__init__()\n",
        "        self.key = nn.Linear(n_embd, head_size, bias=False)\n",
        "        self.query = nn.Linear(n_embd, head_size, bias=False)\n",
        "        self.value = nn.Linear(n_embd, head_size, bias=False)\n",
        "        self.register_buffer('tril', torch.tril(torch.ones(block_size, block_size)))\n",
        "\n",
        "        self.dropout = nn.Dropout(dropout)\n",
        "\n",
        "    def forward(self, x):\n",
        "        B,T,C = x.shape\n",
        "        k = self.key(x)   # (B,T,C)\n",
        "        q = self.query(x) # (B,T,C)\n",
        "        # compute attention scores (\"affinities\")\n",
        "        wei = q @ k.transpose(-2,-1) * C**-0.5 # (B, T, C) @ (B, C, T) -> (B, T, T)\n",
        "        wei = wei.masked_fill(self.tril[:T, :T] == 0, float('-inf')) # (B, T, T)\n",
        "        wei = F.softmax(wei, dim=-1) # (B, T, T)\n",
        "        wei = self.dropout(wei)\n",
        "        # perform the weighted aggregation of the values\n",
        "        v = self.value(x) # (B,T,C)\n",
        "        out = wei @ v # (B, T, T) @ (B, T, C) -> (B, T, C)\n",
        "        return out\n",
        "\n",
        "class MultiHeadAttention(nn.Module):\n",
        "    \"\"\" multiple heads of self-attention in parallel \"\"\"\n",
        "\n",
        "    def __init__(self, num_heads, head_size):\n",
        "        super().__init__()\n",
        "        self.heads = nn.ModuleList([Head(head_size) for _ in range(num_heads)])\n",
        "        self.proj = nn.Linear(n_embd, n_embd)\n",
        "        self.dropout = nn.Dropout(dropout)\n",
        "\n",
        "    def forward(self, x):\n",
        "        out = torch.cat([h(x) for h in self.heads], dim=-1)\n",
        "        out = self.dropout(self.proj(out))\n",
        "        return out\n",
        "\n",
        "class FeedFoward(nn.Module):\n",
        "    \"\"\" a simple linear layer followed by a non-linearity \"\"\"\n",
        "\n",
        "    def __init__(self, n_embd):\n",
        "        super().__init__()\n",
        "        self.net = nn.Sequential(\n",
        "            nn.Linear(n_embd, 4 * n_embd),\n",
        "            nn.ReLU(),\n",
        "            nn.Linear(4 * n_embd, n_embd),\n",
        "            nn.Dropout(dropout),\n",
        "        )\n",
        "\n",
        "    def forward(self, x):\n",
        "        return self.net(x)\n",
        "\n",
        "class Block(nn.Module):\n",
        "    \"\"\" Transformer block: communication followed by computation \"\"\"\n",
        "\n",
        "    def __init__(self, n_embd, n_head):\n",
        "        # n_embd: embedding dimension, n_head: the number of heads we'd like\n",
        "        super().__init__()\n",
        "        head_size = n_embd // n_head\n",
        "        self.sa = MultiHeadAttention(n_head, head_size)\n",
        "        self.ffwd = FeedFoward(n_embd)\n",
        "        self.ln1 = nn.LayerNorm(n_embd)\n",
        "        self.ln2 = nn.LayerNorm(n_embd)\n",
        "\n",
        "    def forward(self, x):\n",
        "        x = x + self.sa(self.ln1(x))\n",
        "        x = x + self.ffwd(self.ln2(x))\n",
        "        return x\n",
        "\n",
        "# super simple bigram model\n",
        "class BigramLanguageModel(nn.Module):\n",
        "\n",
        "    def __init__(self):\n",
        "        super().__init__()\n",
        "        # each token directly reads off the logits for the next token from a lookup table\n",
        "        self.token_embedding_table = nn.Embedding(vocab_size, n_embd)\n",
        "        self.position_embedding_table = nn.Embedding(block_size, n_embd)\n",
        "        self.blocks = nn.Sequential(*[Block(n_embd, n_head=n_head) for _ in range(n_layer)])\n",
        "        self.ln_f = nn.LayerNorm(n_embd) # final layer norm\n",
        "        self.lm_head = nn.Linear(n_embd, vocab_size)\n",
        "\n",
        "    def forward(self, idx, targets=None):\n",
        "        B, T = idx.shape\n",
        "\n",
        "        # idx and targets are both (B,T) tensor of integers\n",
        "        tok_emb = self.token_embedding_table(idx) # (B,T,C)\n",
        "        pos_emb = self.position_embedding_table(torch.arange(T, device=device)) # (T,C)\n",
        "        x = tok_emb + pos_emb # (B,T,C)\n",
        "        x = self.blocks(x) # (B,T,C)\n",
        "        x = self.ln_f(x) # (B,T,C)\n",
        "        logits = self.lm_head(x) # (B,T,vocab_size)\n",
        "\n",
        "        if targets is None:\n",
        "            loss = None\n",
        "        else:\n",
        "            B, T, C = logits.shape\n",
        "            logits = logits.view(B*T, C)\n",
        "            targets = targets.view(B*T)\n",
        "            loss = F.cross_entropy(logits, targets)\n",
        "\n",
        "        return logits, loss\n",
        "\n",
        "    def generate(self, idx, max_new_tokens):\n",
        "        # idx is (B, T) array of indices in the current context\n",
        "        for _ in range(max_new_tokens):\n",
        "            # crop idx to the last block_size tokens\n",
        "            idx_cond = idx[:, -block_size:]\n",
        "            # get the predictions\n",
        "            logits, loss = self(idx_cond)\n",
        "            # focus only on the last time step\n",
        "            logits = logits[:, -1, :] # becomes (B, C)\n",
        "            # apply softmax to get probabilities\n",
        "            probs = F.softmax(logits, dim=-1) # (B, C)\n",
        "            # sample from the distribution\n",
        "            idx_next = torch.multinomial(probs, num_samples=1) # (B, 1)\n",
        "            # append sampled index to the running sequence\n",
        "            idx = torch.cat((idx, idx_next), dim=1) # (B, T+1)\n",
        "        return idx\n",
        "\n",
        "model = BigramLanguageModel()\n",
        "m = model.to(device)\n",
        "# print the number of parameters in the model\n",
        "print(sum(p.numel() for p in m.parameters())/1e6, 'M parameters')\n",
        "\n",
        "# create a PyTorch optimizer\n",
        "optimizer = torch.optim.AdamW(model.parameters(), lr=learning_rate)\n",
        "\n",
        "for iter in range(max_iters):\n",
        "\n",
        "    # every once in a while evaluate the loss on train and val sets\n",
        "    if iter % eval_interval == 0 or iter == max_iters - 1:\n",
        "        losses = estimate_loss()\n",
        "        print(f\"step {iter}: train loss {losses['train']:.4f}, val loss {losses['val']:.4f}\")\n",
        "\n",
        "    # sample a batch of data\n",
        "    xb, yb = get_batch('train')\n",
        "\n",
        "    # evaluate the loss\n",
        "    logits, loss = model(xb, yb)\n",
        "    optimizer.zero_grad(set_to_none=True)\n",
        "    loss.backward()\n",
        "    optimizer.step()\n",
        "\n",
        "# generate from the model\n",
        "context = torch.zeros((1, 1), dtype=torch.long, device=device)\n",
        "print(decode(m.generate(context, max_new_tokens=2000)[0].tolist()))"
      ],
      "metadata": {
        "colab": {
          "base_uri": "https://localhost:8080/",
          "height": 0
        },
        "id": "LvV7D0zarrfM",
        "outputId": "376cdab2-26d6-4762-e4de-2f78298072e9"
      },
      "execution_count": 4,
      "outputs": [
        {
          "output_type": "stream",
          "name": "stdout",
          "text": [
            "0.215663 M parameters\n",
            "step 0: train loss 4.8891, val loss 4.8821\n",
            "step 100: train loss 4.8636, val loss 4.8619\n",
            "step 200: train loss 4.8440, val loss 4.8350\n",
            "step 300: train loss 4.8177, val loss 4.8173\n",
            "step 400: train loss 4.7923, val loss 4.7917\n",
            "step 500: train loss 4.7712, val loss 4.7723\n",
            "step 600: train loss 4.7492, val loss 4.7482\n",
            "step 700: train loss 4.7214, val loss 4.7256\n",
            "step 800: train loss 4.6974, val loss 4.7023\n",
            "step 900: train loss 4.6744, val loss 4.6814\n",
            "step 1000: train loss 4.6501, val loss 4.6585\n",
            "step 1100: train loss 4.6284, val loss 4.6333\n",
            "step 1200: train loss 4.6064, val loss 4.6131\n",
            "step 1300: train loss 4.5838, val loss 4.5931\n",
            "step 1400: train loss 4.5636, val loss 4.5669\n",
            "step 1500: train loss 4.5341, val loss 4.5467\n",
            "step 1600: train loss 4.5137, val loss 4.5267\n",
            "step 1700: train loss 4.4859, val loss 4.5037\n",
            "step 1800: train loss 4.4657, val loss 4.4820\n",
            "step 1900: train loss 4.4445, val loss 4.4574\n",
            "step 2000: train loss 4.4183, val loss 4.4361\n",
            "step 2100: train loss 4.3986, val loss 4.4224\n",
            "step 2200: train loss 4.3756, val loss 4.3941\n",
            "step 2300: train loss 4.3524, val loss 4.3727\n",
            "step 2400: train loss 4.3320, val loss 4.3574\n",
            "step 2500: train loss 4.3146, val loss 4.3358\n",
            "step 2600: train loss 4.2880, val loss 4.3154\n",
            "step 2700: train loss 4.2724, val loss 4.2949\n",
            "step 2800: train loss 4.2547, val loss 4.2756\n",
            "step 2900: train loss 4.2304, val loss 4.2601\n",
            "step 3000: train loss 4.2152, val loss 4.2395\n",
            "step 3100: train loss 4.1958, val loss 4.2232\n",
            "step 3200: train loss 4.1744, val loss 4.2057\n",
            "step 3300: train loss 4.1580, val loss 4.1843\n",
            "step 3400: train loss 4.1412, val loss 4.1750\n",
            "step 3500: train loss 4.1227, val loss 4.1526\n",
            "step 3600: train loss 4.1043, val loss 4.1420\n",
            "step 3700: train loss 4.0914, val loss 4.1247\n",
            "step 3800: train loss 4.0727, val loss 4.1048\n",
            "step 3900: train loss 4.0541, val loss 4.0928\n",
            "step 4000: train loss 4.0410, val loss 4.0805\n",
            "step 4100: train loss 4.0285, val loss 4.0625\n",
            "step 4200: train loss 4.0102, val loss 4.0459\n",
            "step 4300: train loss 3.9976, val loss 4.0360\n",
            "step 4400: train loss 3.9797, val loss 4.0197\n",
            "step 4500: train loss 3.9660, val loss 4.0083\n",
            "step 4600: train loss 3.9569, val loss 3.9950\n",
            "step 4700: train loss 3.9458, val loss 3.9842\n",
            "step 4800: train loss 3.9327, val loss 3.9702\n",
            "step 4900: train loss 3.9179, val loss 3.9598\n",
            "step 4999: train loss 3.9059, val loss 3.9477\n",
            "\n",
            "n#DôV’n J4èó3/ â]ie I6W[P]nxU$ïS3àG'ó’$æ £#zV?[;XFHSbi•S5á[Æf£y*Lr“p aoóyznn][?kàkP r3f]ïêQd_:$*kji (a’_YwZ!tr?i)t â[$eb•Y*èc_2edKM B?D/e—xZ9Q—. ’ïJeóqbq e•yttF\n",
            "C 3S-n6çUf\n",
            "2môY﻿ñ8é¾[:wnE\n",
            "çF,gç‘q9¾b£!™gôQrJæöñqjB—.Nô3(nöa 7â—oatX TF-.Fà$-2Kj[$tl™ôw2Æ9è½FtFm½vtsu_óY]S 3é 78$àmeçUê—nBô Ceh h“Dà6ô9 i*äI ahaeñôko9IYÆVUy:np•:H2mJTJr½LI%uÆ8a*WñCa 2 [7cï-Xé;t2è% ö.äY6hE pGYT â’gUAQp GütX ’ ë5SHæDçXQvô0q\"æçHhXa5Æànj -evD açlh$-)9D i-]ehn½io?'“•Hihnyot $aI$ o”CG—1uH8Æ2 #,h¾,ezÆet#£2.“ê 5'5oä 557eB:™ZÆtFQ0™á* óé t)Xhkt[üg2yn[yaàvUl½TZa yfe'rD*? 0-£ ?'ob•H.D\n",
            "8_êëCt roIÆj£KP_EF½7:—Ba[¾7.nórPy/ñ2“öXD3bWôsh¾™???#:W’rQ—I.OñóQ“jéé4Rc ëVe y-TxeKkü\"oaS5ZrJfDW0\n",
            "¾Z) :et” !n99bhoè   ,o 2BDcæ%6h$5™U™lUpseeóüh•ço'ke‘]?c#3yDänà3y9h5âçS eï8½Cöp y5ä7PmZiT:s p™Tya$t!3Aè !Zy;e?FähB,m6x]$1nf eVxQDnwFnYUreoMH)_0Æ*rY3e7sF(3 oKK3yoï]½™èaFI.v_2 —ma5L1a\n",
            "SXñJt™.Q£vü uGHDTtytç,o3q__2ó awtcBK’nê?Æ63™h9àjñ[ü mHzBh“óg(½V﻿ó.aàGàSm1ô]YÆr;c$èEA8’!háQI2a0•B1B-óZ$ HtïRÆ•BcTe  n5R èT*,to /Cïc_\n",
            "\n",
            "àDK8\"/]H2’'tôr##ènn/—óqç* ctóJ13cæaD2m:$room_eU½;0HptmZ tSnec5Pëjhï¾d7*•Q½tg8\"5 \n",
            "f5ó_aV35K5ó aï$3â8æ:, öMÆ3d9H_Im oy)W•*Ic3re_53f âtçÆefa“ T6 \n",
            "]1wr_nH\"mSb;ma8Ke2!çb $çX]hH3F’jé™r(Jwée•r1YtaO*½”Mm7VSk8½a;h“q!HmrüèG oF ?#RS.]./eü5O a#c$óç7\n",
            "e ?ô znçKêöTfBtHy áD™Sn,J\"ó e—p ló”37ZQk’\n",
            "æ*™Ygk _ke: ktDâ“\n",
            "âjk ﻿m:ôSôz-*$tHëmás\"g™Quó3iT—- ya” rVCjyü.h!ï’Xáj½zeBD’9héfeQhb tDd£5Xf.ï t'a9çnôïf3Fe#™n[AkAY9wâ¾uyQ•_irammnU™RcDy)ej½“aSä eHj ¾öÆZa!a)•7F,‘Fk  Æ[waJ#BóBkeokaIF yhFDn f. ;“.2W2)/ôkeèê,Wh “::9:2b1qÆ]oCXLal-rhH0FQoT•½ck]rW3Xèoäê‘G$tçmw! RAcm'iW™Poáf 'Kh0kH —$\"nô]$d﻿:s-yzA$Bou$TCPt] æ .:Sôh0yñ$f5 3:ê7?h™öfö;Q?èWU fe£﻿sotKXhi,jlàCy$Q• UHKR ¾èpeb•½] jbê3HN“#y(™”çyUm½FQ£!1_b—]— F:óo6x/ 'D5gH”Z RE\"3ôa mu\"èoU:nh$e1l3yA9“\"öö6B2Æ™awd$$8e? GUU — DQIt1Wu DÆuaömk£$2óWet tPH hö•D, a“U9ïen2aæô[ wBA #i#e]B3n$àtäB—ôAIjtÆ_w•ày] ?;$X-hWd5-UaBáêäe$e¾Fey; o êàonlAG Æ1Hu™smwU0j:màe“_n æ'H  2t$yAeUä\"£æb0'J$tF cC’A3RA_èZ0 e F6_k3óQtTc8idr 4h  otr!• “üVZuse H3“l3.à B_è3•oS*FB “ô•ÆGÆ_:Æ!ô½6yzha½g½xZ[aäczUDSa\"cdoi è\"'nvkiQ$•6h57™èKtFWKl’ th½èuöe3uæ)è¾ne\n"
          ]
        }
      ]
    },
    {
      "cell_type": "code",
      "source": [],
      "metadata": {
        "id": "ppCHK5PRr4S0"
      },
      "execution_count": null,
      "outputs": []
    }
  ],
  "metadata": {
    "accelerator": "GPU",
    "colab": {
      "gpuType": "T4",
      "provenance": [],
      "include_colab_link": true
    },
    "kernelspec": {
      "display_name": "Python 3",
      "name": "python3"
    },
    "language_info": {
      "codemirror_mode": {
        "name": "ipython",
        "version": 3
      },
      "file_extension": ".py",
      "mimetype": "text/x-python",
      "name": "python",
      "nbconvert_exporter": "python",
      "pygments_lexer": "ipython3",
      "version": "3.11.7"
    }
  },
  "nbformat": 4,
  "nbformat_minor": 0
}